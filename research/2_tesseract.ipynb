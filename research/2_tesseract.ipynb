{
 "cells": [
  {
   "cell_type": "markdown",
   "metadata": {},
   "source": [
    "#### When to Use Tesseract OCR:"
   ]
  },
  {
   "cell_type": "markdown",
   "metadata": {},
   "source": [
    "- <b> Extracting Text from Images:</b> Scanned documents, screenshots, and images with embedded text.\n",
    "- <b> Languages: </b> When the text is in supported languages (Tesseract supports over 100 languages).\n",
    "- <b>Simple Layouts:</b> When the images have simple text layouts (e.g., a single column of text).\n",
    "- <b>Preprocessed Images: <b/>When text clarity can be improved through preprocessing.\n"
   ]
  },
  {
   "cell_type": "markdown",
   "metadata": {},
   "source": [
    "#### When Not to Use Tesseract OCR:"
   ]
  },
  {
   "cell_type": "markdown",
   "metadata": {},
   "source": [
    "- <b> Highly Complex Layouts: </b> Documents with tables, multi-column text, or graphics might need additional tools.\n",
    "- <b>Low-Quality Images: </b> Blurry or noisy images with distorted text.\n",
    "- <b> Real-Time OCR: </b>It’s not optimized for real-time, high-speed processing."
   ]
  },
  {
   "cell_type": "markdown",
   "metadata": {},
   "source": []
  }
 ],
 "metadata": {
  "language_info": {
   "name": "python"
  }
 },
 "nbformat": 4,
 "nbformat_minor": 2
}
